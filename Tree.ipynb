{
 "cells": [
  {
   "cell_type": "code",
   "execution_count": 6,
   "metadata": {},
   "outputs": [],
   "source": [
    "import pandas as pd\n",
    "import numpy as np\n",
    "from sklearn.ensemble import RandomForestClassifier\n",
    "from xgboost import XGBClassifier, plot_importance\n",
    "\n",
    "from sklearn.metrics import plot_confusion_matrix, classification_report, confusion_matrix, multilabel_confusion_matrix\n",
    "from random import sample\n",
    "from sklearn.model_selection import GridSearchCV\n",
    "import matplotlib.pyplot as plt"
   ]
  },
  {
   "cell_type": "markdown",
   "metadata": {},
   "source": [
    "# Read Data"
   ]
  },
  {
   "cell_type": "code",
   "execution_count": 7,
   "metadata": {
    "scrolled": true
   },
   "outputs": [],
   "source": [
    "trainDF = pd.read_csv(\"HSV_LBPs_train.csv\")\n",
    "train_imagesF = trainDF.iloc[:,:-1].copy()\n",
    "train_labels = trainDF.iloc[:,-1].copy()\n",
    "\n",
    "testDF = pd.read_csv(\"HSV_LBPs_test.csv\")\n",
    "test_imagesF = testDF.iloc[:,:-1].copy()\n",
    "test_labels = testDF.iloc[:,-1].copy()\n",
    "\n",
    "valDF = pd.read_csv(\"HSV_LBPs_val.csv\")\n",
    "val_imagesF = valDF.iloc[:,:-1].copy()\n",
    "val_labels = valDF.iloc[:,-1].copy()"
   ]
  },
  {
   "cell_type": "code",
   "execution_count": 21,
   "metadata": {},
   "outputs": [],
   "source": [
    "def topk_Acc(k, RealLabel, PreLabelProb):\n",
    "    \"\"\"\n",
    "    k: top k\n",
    "    RealLabel: shape -> (num, 1)\n",
    "    PreLabelProb: shape -> (num, class_num)\n",
    "    \"\"\"\n",
    "    max_k_preds = PreLabelProb.argsort(axis=1)[:, -k:][:, ::-1] #得到top-k label\n",
    "    match_array = np.logical_or.reduce(max_k_preds==RealLabel, axis=1) #得到匹配結果\n",
    "    topk_acc_score = match_array.sum() / match_array.shape[0]\n",
    "    \n",
    "    return round(topk_acc_score, 4)"
   ]
  },
  {
   "cell_type": "markdown",
   "metadata": {},
   "source": [
    "# 建模"
   ]
  },
  {
   "cell_type": "markdown",
   "metadata": {},
   "source": [
    "## Random Forest"
   ]
  },
  {
   "cell_type": "code",
   "execution_count": 5,
   "metadata": {
    "scrolled": true
   },
   "outputs": [],
   "source": [
    "forest = RandomForestClassifier(n_jobs=15, random_state=2021)\n",
    "final_RF = forest.fit(train_imagesF, train_labels)"
   ]
  },
  {
   "cell_type": "code",
   "execution_count": 25,
   "metadata": {},
   "outputs": [
    {
     "name": "stdout",
     "output_type": "stream",
     "text": [
      "-----Random Forest-----\n",
      "Top 1 Validation Accuracy:  0.1178\n",
      "Top 5 Validation Accuracy:  0.3289\n",
      "Top 1 Test Accuracy:  0.0978\n",
      "Top 5 Test Accuracy:  0.3178\n"
     ]
    }
   ],
   "source": [
    "### validation\n",
    "val_real = np.array(val_labels).reshape(450,1)\n",
    "val_pred_score = final_RF.predict_proba(val_imagesF)\n",
    "\n",
    "### test\n",
    "test_real = np.array(test_labels).reshape(450,1)\n",
    "test_pred_score = final_RF.predict_proba(test_imagesF)\n",
    "\n",
    "top1_Acc_val = topk_Acc(1,val_real,val_pred_score)\n",
    "top5_Acc_val = topk_Acc(5, val_real, val_pred_score)\n",
    "\n",
    "top1_Acc_test = topk_Acc(1, test_real, test_pred_score)\n",
    "top5_Acc_test = topk_Acc(5, test_real, test_pred_score)\n",
    "\n",
    "print(\"-----Random Forest-----\")\n",
    "print(\"Top 1 Validation Accuracy: \", top1_Acc_val)\n",
    "print(\"Top 5 Validation Accuracy: \", top5_Acc_val)\n",
    "print(\"Top 1 Test Accuracy: \", top1_Acc_test)\n",
    "print(\"Top 5 Test Accuracy: \", top5_Acc_test)"
   ]
  },
  {
   "cell_type": "markdown",
   "metadata": {},
   "source": [
    "## XGBoost"
   ]
  },
  {
   "cell_type": "code",
   "execution_count": 23,
   "metadata": {
    "scrolled": true
   },
   "outputs": [
    {
     "name": "stderr",
     "output_type": "stream",
     "text": [
      "/usr/local/lib/python3.6/dist-packages/xgboost/sklearn.py:888: UserWarning: The use of label encoder in XGBClassifier is deprecated and will be removed in a future release. To remove this warning, do the following: 1) Pass option use_label_encoder=False when constructing XGBClassifier object; and 2) Encode your labels (y) as integers starting with 0, i.e. 0, 1, 2, ..., [num_class - 1].\n",
      "  warnings.warn(label_encoder_deprecation_msg, UserWarning)\n"
     ]
    },
    {
     "name": "stdout",
     "output_type": "stream",
     "text": [
      "[15:58:24] WARNING: ../src/learner.cc:1061: Starting in XGBoost 1.3.0, the default evaluation metric used with the objective 'multi:softprob' was changed from 'merror' to 'mlogloss'. Explicitly set eval_metric if you'd like to restore the old behavior.\n"
     ]
    },
    {
     "data": {
      "text/plain": [
       "XGBClassifier(base_score=0.5, booster='gbtree', colsample_bylevel=1,\n",
       "              colsample_bynode=1, colsample_bytree=1, gamma=0, gpu_id=-1,\n",
       "              importance_type='gain', interaction_constraints='',\n",
       "              learning_rate=0.300000012, max_delta_step=0, max_depth=6,\n",
       "              min_child_weight=1, missing=nan, monotone_constraints='()',\n",
       "              n_estimators=100, n_jobs=15, num_parallel_tree=1,\n",
       "              objective='multi:softprob', random_state=2020, reg_alpha=0,\n",
       "              reg_lambda=1, scale_pos_weight=None, subsample=1,\n",
       "              tree_method='exact', validate_parameters=1, verbosity=None)"
      ]
     },
     "execution_count": 23,
     "metadata": {},
     "output_type": "execute_result"
    }
   ],
   "source": [
    "xbgc = XGBClassifier(random_state = 2020, n_jobs = 15)\n",
    "xbgc.fit(train_imagesF.values, train_labels)"
   ]
  },
  {
   "cell_type": "code",
   "execution_count": 26,
   "metadata": {},
   "outputs": [
    {
     "name": "stdout",
     "output_type": "stream",
     "text": [
      "-----XGBoost-----\n",
      "Top 1 Validation Accuracy:  0.1244\n",
      "Top 5 Validation Accuracy:  0.3444\n",
      "Top 1 Test Accuracy:  0.1044\n",
      "Top 5 Test Accuracy:  0.3289\n"
     ]
    }
   ],
   "source": [
    "### validation\n",
    "val_real = np.array(val_labels).reshape(450,1)\n",
    "val_pred_score = xbgc.predict_proba(val_imagesF)\n",
    "\n",
    "### test\n",
    "test_real = np.array(test_labels).reshape(450,1)\n",
    "test_pred_score = xbgc.predict_proba(test_imagesF)\n",
    "\n",
    "top1_Acc_val = topk_Acc(1,val_real,val_pred_score)\n",
    "top5_Acc_val = topk_Acc(5, val_real, val_pred_score)\n",
    "\n",
    "top1_Acc_test = topk_Acc(1, test_real, test_pred_score)\n",
    "top5_Acc_test = topk_Acc(5, test_real, test_pred_score)\n",
    "\n",
    "print(\"-----XGBoost-----\")\n",
    "print(\"Top 1 Validation Accuracy: \", top1_Acc_val)\n",
    "print(\"Top 5 Validation Accuracy: \", top5_Acc_val)\n",
    "print(\"Top 1 Test Accuracy: \", top1_Acc_test)\n",
    "print(\"Top 5 Test Accuracy: \", top5_Acc_test)"
   ]
  },
  {
   "cell_type": "code",
   "execution_count": null,
   "metadata": {},
   "outputs": [],
   "source": []
  }
 ],
 "metadata": {
  "kernelspec": {
   "display_name": "Python 3",
   "language": "python",
   "name": "python3"
  },
  "language_info": {
   "codemirror_mode": {
    "name": "ipython",
    "version": 3
   },
   "file_extension": ".py",
   "mimetype": "text/x-python",
   "name": "python",
   "nbconvert_exporter": "python",
   "pygments_lexer": "ipython3",
   "version": "3.6.9"
  }
 },
 "nbformat": 4,
 "nbformat_minor": 4
}
