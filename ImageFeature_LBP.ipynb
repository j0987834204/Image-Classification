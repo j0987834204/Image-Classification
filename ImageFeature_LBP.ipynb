{
 "cells": [
  {
   "cell_type": "code",
   "execution_count": 19,
   "metadata": {
    "scrolled": true
   },
   "outputs": [],
   "source": [
    "from skimage import feature\n",
    "from imutils import paths\n",
    "import numpy as np\n",
    "import mahotas\n",
    "import cv2\n",
    "import matplotlib.pyplot as plt\n",
    "import pandas as pd\n",
    "from tqdm import tqdm"
   ]
  },
  {
   "cell_type": "markdown",
   "metadata": {},
   "source": [
    "# Read Data"
   ]
  },
  {
   "cell_type": "code",
   "execution_count": 11,
   "metadata": {},
   "outputs": [],
   "source": [
    "trainDF = pd.read_csv(\"train.txt\", sep=\" \", header = None)\n",
    "trainDF.columns = [\"file_path\", \"img_label\"]\n",
    "\n",
    "valDF = pd.read_csv(\"val.txt\", sep=\" \", header = None)\n",
    "valDF.columns = [\"file_path\", \"img_label\"]\n",
    "\n",
    "testDF = pd.read_csv(\"test.txt\", sep=\" \", header = None)\n",
    "testDF.columns = [\"file_path\", \"img_label\"]"
   ]
  },
  {
   "cell_type": "code",
   "execution_count": 20,
   "metadata": {},
   "outputs": [],
   "source": [
    "def describe(image, ftype=\"Hara\"):\n",
    "    #上面指令是從圖片的HSV色彩模型中，取得其平均值及標準差（有RGB三個channels，因此會各有3組平均值及標準差）作為特徵值\n",
    "    (means, stds) = cv2.meanStdDev(cv2.cvtColor(image, cv2.COLOR_BGR2HSV))\n",
    "    #進行降維處理：將means及stds各3組array使用concatenate指令合成1組，再予以扁平化（變成一維）。\n",
    "    colorStats = np.concatenate([means, stds]).flatten()\n",
    "    #將圖片轉為灰階\n",
    "    gray = cv2.cvtColor(image, cv2.COLOR_BGR2GRAY)\n",
    "    if(ftype==\"Hara\"):\n",
    "        #取Haralick紋理特徵(texture features)的平均值\n",
    "        haralick = mahotas.features.haralick(gray).mean(axis=0)\n",
    "\n",
    "        #使用np.hstack將兩個一維的特徵陣列colorStats及haralick合成一個\n",
    "        return np.hstack([colorStats, haralick])\n",
    "\n",
    "    else:\n",
    "        #P=30\n",
    "        numPoints = 2\n",
    "        #r=3\n",
    "        radius = 0.25\n",
    "        #eps指The \"close-enough\" factor，為一極小值，用以判斷兩數是否相當接近，在此是避免相除時分母為零發生錯誤\n",
    "        eps = 1e-7\n",
    "        lbp = feature.local_binary_pattern(gray, numPoints, radius, method=\"uniform\")\n",
    "        #Numpy的ravel()類似flattern\n",
    "        (hist, _) = np.histogram(lbp.ravel(), bins=range(0, numPoints + 3), range=(0, numPoints + 2))\n",
    "\n",
    "        # normalize the histogram\n",
    "        hist = hist.astype(\"float\")\n",
    "        hist /= (hist.sum() + eps)\n",
    "\n",
    "        return np.hstack([colorStats, hist])"
   ]
  },
  {
   "cell_type": "code",
   "execution_count": 25,
   "metadata": {},
   "outputs": [
    {
     "name": "stderr",
     "output_type": "stream",
     "text": [
      "100%|████████████████████████████████████████████████████████████████████████████| 63325/63325 [11:46<00:00, 89.69it/s]\n",
      "100%|████████████████████████████████████████████████████████████████████████████████| 450/450 [00:05<00:00, 85.00it/s]\n",
      "100%|████████████████████████████████████████████████████████████████████████████████| 450/450 [00:05<00:00, 85.29it/s]\n"
     ]
    }
   ],
   "source": [
    "DFname = [\"trainDF\", \"valDF\", \"testDF\"]\n",
    "\n",
    "for df in DFname:\n",
    "    eval('exec(\"data_\"+df+\"=[]\")')\n",
    "    for idx in tqdm(range(len(eval(df)))):\n",
    "        image = cv2.imread(eval(df).iloc[idx, 0])\n",
    "        features = describe(image, ftype = \"LBPs\")\n",
    "        eval(\"data_\"+df).append(features)"
   ]
  },
  {
   "cell_type": "code",
   "execution_count": 31,
   "metadata": {},
   "outputs": [],
   "source": [
    "featureDF_train = pd.DataFrame(data_trainDF)\n",
    "featureDF_train.columns = ['h_mean', 's_mean', 'v_mean', 'h_std', 's_std', 'v_std', 'LBPs1', 'LBPs2', 'LBPs3', 'LBPs4']\n",
    "featureDF_train['labels'] = trainDF[\"img_label\"]\n",
    "featureDF_train.drop(columns = [\"LBPs4\"], inplace = True)\n",
    "\n",
    "featureDF_test = pd.DataFrame(data_testDF)\n",
    "featureDF_test.columns = ['h_mean', 's_mean', 'v_mean', 'h_std', 's_std', 'v_std', 'LBPs1', 'LBPs2', 'LBPs3', 'LBPs4']\n",
    "featureDF_test['labels'] = testDF[\"img_label\"]\n",
    "featureDF_test.drop(columns = [\"LBPs4\"], inplace = True)\n",
    "\n",
    "\n",
    "featureDF_val = pd.DataFrame(data_valDF)\n",
    "featureDF_val.columns = ['h_mean', 's_mean', 'v_mean', 'h_std', 's_std', 'v_std', 'LBPs1', 'LBPs2', 'LBPs3', 'LBPs4']\n",
    "featureDF_val['labels'] = valDF[\"img_label\"]\n",
    "featureDF_val.drop(columns = [\"LBPs4\"], inplace = True)\n"
   ]
  },
  {
   "cell_type": "code",
   "execution_count": 33,
   "metadata": {
    "scrolled": true
   },
   "outputs": [],
   "source": [
    "featureDF_train.to_csv(\"HSV_LBPs_train.csv\", index=None)\n",
    "featureDF_test.to_csv(\"HSV_LBPs_test.csv\", index=None)\n",
    "featureDF_val.to_csv(\"HSV_LBPs_val.csv\", index=None)"
   ]
  }
 ],
 "metadata": {
  "kernelspec": {
   "display_name": "Python 3",
   "language": "python",
   "name": "python3"
  },
  "language_info": {
   "codemirror_mode": {
    "name": "ipython",
    "version": 3
   },
   "file_extension": ".py",
   "mimetype": "text/x-python",
   "name": "python",
   "nbconvert_exporter": "python",
   "pygments_lexer": "ipython3",
   "version": "3.6.8"
  }
 },
 "nbformat": 4,
 "nbformat_minor": 4
}
